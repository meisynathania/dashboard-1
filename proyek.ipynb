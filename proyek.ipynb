{
  "cells": [
    {
      "cell_type": "markdown",
      "metadata": {
        "id": "H9wADwK78DCz"
      },
      "source": [
        "# Proyek Analisis Data: Bike Sharing Dataset\n",
        "- **Nama:** Meisy Nathania Yogianty\n",
        "- **Email:** meisynathania.y@gmail.com\n",
        "- **ID Dicoding:** meisynathania"
      ]
    },
    {
      "cell_type": "markdown",
      "metadata": {
        "id": "eE0raob58DC0"
      },
      "source": [
        "## Menentukan Pertanyaan Bisnis"
      ]
    },
    {
      "cell_type": "markdown",
      "metadata": {
        "id": "GmQeQ5YF8DC0"
      },
      "source": [
        "- Pada musim apa sepeda paling banyak disewakan?\n",
        "- Pada jam berapa bisnis persewaan sepeda ideal dibuka?"
      ]
    },
    {
      "cell_type": "markdown",
      "metadata": {
        "id": "H-z4QGlO8DC1"
      },
      "source": [
        "## Import Semua Packages/Library yang Digunakan"
      ]
    },
    {
      "cell_type": "code",
      "execution_count": null,
      "metadata": {
        "id": "FVYwaObI8DC1"
      },
      "outputs": [],
      "source": [
        "import pandas as pd\n",
        "import matplotlib.pyplot as plt\n",
        "import seaborn as sns\n",
        "import numpy as np\n",
        "import datetime\n",
        "sns.set(style='dark')"
      ]
    },
    {
      "cell_type": "markdown",
      "metadata": {
        "id": "h_Sh51Xy8DC1"
      },
      "source": [
        "## Data Wrangling"
      ]
    },
    {
      "cell_type": "markdown",
      "metadata": {
        "id": "sXU2GBYu8DC1"
      },
      "source": [
        "### Gathering Data"
      ]
    },
    {
      "cell_type": "code",
      "execution_count": null,
      "metadata": {
        "id": "zjCBk1BI8DC1"
      },
      "outputs": [],
      "source": [
        "daily = pd.read_csv(\"day.csv\")\n",
        "daily.head()"
      ]
    },
    {
      "cell_type": "code",
      "source": [
        "hourly = pd.read_csv(\"hour.csv\")\n",
        "hourly.head()"
      ],
      "metadata": {
        "id": "JLkNyfYChunD"
      },
      "execution_count": null,
      "outputs": []
    },
    {
      "cell_type": "markdown",
      "metadata": {
        "id": "FHSiqaZp8DC1"
      },
      "source": [
        "### Assessing Data"
      ]
    },
    {
      "cell_type": "code",
      "source": [
        "daily.info()"
      ],
      "metadata": {
        "id": "ax-3tEjc9Cj1"
      },
      "execution_count": null,
      "outputs": []
    },
    {
      "cell_type": "code",
      "source": [
        "hourly.info()"
      ],
      "metadata": {
        "id": "HISyQOpPh14O"
      },
      "execution_count": null,
      "outputs": []
    },
    {
      "cell_type": "code",
      "source": [
        "print(hourly.isna().sum())\n",
        "print(daily.isna().sum())\n",
        "print(daily.duplicated().sum())\n",
        "print(hourly.duplicated().sum())"
      ],
      "metadata": {
        "id": "jRU51Bx2h4Lz"
      },
      "execution_count": null,
      "outputs": []
    },
    {
      "cell_type": "code",
      "source": [
        "daily.describe()"
      ],
      "metadata": {
        "id": "sCM57hcWh84M"
      },
      "execution_count": null,
      "outputs": []
    },
    {
      "cell_type": "code",
      "source": [
        "hourly.describe()"
      ],
      "metadata": {
        "id": "qaOpYj4Gh-9u"
      },
      "execution_count": null,
      "outputs": []
    },
    {
      "cell_type": "markdown",
      "metadata": {
        "id": "EhN5R4hr8DC1"
      },
      "source": [
        "### Cleaning Data"
      ]
    },
    {
      "cell_type": "code",
      "source": [
        "daily['dteday']= pd.to_datetime(daily['dteday'])\n",
        "daily['season'].replace([1,2,3,4],['springer','summer', 'fall', 'winter'],inplace=True)\n",
        "daily['yr'].replace([0,1],['2011','2012'],inplace=True)\n",
        "daily['mnth'] = daily['mnth'].astype(str)\n",
        "daily['holiday'].replace([0,1],['not holiday','holiday'],inplace=True)\n",
        "daily['weekday'] = daily['weekday'].astype(str)\n",
        "daily['workingday'].replace([0,1],['weekend/holiday','workingday'],inplace=True)\n",
        "daily.info()"
      ],
      "metadata": {
        "id": "jVnYpprE9Evz"
      },
      "execution_count": null,
      "outputs": []
    },
    {
      "cell_type": "code",
      "source": [
        "hourly['dteday']= pd.to_datetime(hourly['dteday'])\n",
        "hourly['season'].replace([1,2,3,4],['springer','summer', 'fall', 'winter'],inplace=True)\n",
        "hourly['yr'].replace([0,1],['2011','2012'],inplace=True)\n",
        "hourly['mnth'] = hourly['mnth'].astype(str)\n",
        "hourly['holiday'].replace([0,1],['not holiday','holiday'],inplace=True)\n",
        "hourly['weekday'] = hourly['weekday'].astype(str)\n",
        "hourly['workingday'].replace([0,1],['weekend/holiday','workingday'],inplace=True)\n",
        "hourly.info()"
      ],
      "metadata": {
        "id": "yExBbbmyiCe5"
      },
      "execution_count": null,
      "outputs": []
    },
    {
      "cell_type": "code",
      "source": [
        "hourly.to_csv(\"hourly_clean.csv\", index=False)\n",
        "daily.to_csv(\"daily_clean.csv\", index=False)"
      ],
      "metadata": {
        "id": "f2l08f0QiFiu"
      },
      "execution_count": null,
      "outputs": []
    },
    {
      "cell_type": "markdown",
      "metadata": {
        "id": "gp-Y6wU38DC1"
      },
      "source": [
        "## Exploratory Data Analysis (EDA)"
      ]
    },
    {
      "cell_type": "markdown",
      "metadata": {
        "id": "MW7WF2kr8DC1"
      },
      "source": [
        "### Explore Descriptive Statistics"
      ]
    },
    {
      "cell_type": "code",
      "execution_count": null,
      "metadata": {
        "id": "e9CQCZjk8DC2"
      },
      "outputs": [],
      "source": [
        "daily_clean.describe(include = \"all\")"
      ]
    },
    {
      "cell_type": "code",
      "source": [
        "hourly_clean.describe(include = \"all\")"
      ],
      "metadata": {
        "id": "FMIOCRL7iOMt"
      },
      "execution_count": null,
      "outputs": []
    },
    {
      "cell_type": "markdown",
      "source": [
        "### Perbandingan Sepeda Tersewa saat Holiday dan Not Holiday\n"
      ],
      "metadata": {
        "id": "rF6LmWUBiRl9"
      }
    },
    {
      "cell_type": "code",
      "source": [
        "daily_clean.groupby(by=\"holiday\").agg({\n",
        "    \"instant\": \"nunique\",\n",
        "    \"cnt\": [\"max\", \"min\", \"mean\", \"std\"]\n",
        "})\n",
        "hourly_clean.groupby(by=\"hr\").agg({\n",
        "    \"cnt\": [\"max\", \"min\", \"mean\", \"std\"],\n",
        "})"
      ],
      "metadata": {
        "id": "7Jw22Bgpih7t"
      },
      "execution_count": null,
      "outputs": []
    },
    {
      "cell_type": "markdown",
      "source": [
        "### Perbandingan peminjaman sepeda di setiap musim"
      ],
      "metadata": {
        "id": "J4bFP3uMimFi"
      }
    },
    {
      "cell_type": "code",
      "execution_count": null,
      "metadata": {
        "id": "1swJUdAD8DC2"
      },
      "outputs": [],
      "source": [
        "seasonal = pd.DataFrame(daily_clean.groupby(by=[\"season\",\"yr\"]).agg({\n",
        "    \"cnt\": [\"sum\"],\n",
        "}).unstack())\n",
        "seasonal"
      ]
    },
    {
      "cell_type": "code",
      "source": [
        "grouped_data = seasonal.groupby(['season'])['cnt'].sum().unstack()\n",
        "grouped_data"
      ],
      "metadata": {
        "id": "xQBgWGUdi37p"
      },
      "execution_count": null,
      "outputs": []
    },
    {
      "cell_type": "markdown",
      "metadata": {
        "id": "zsyZjqak8DC2"
      },
      "source": [
        "## Visualization & Explanatory Analysis"
      ]
    },
    {
      "cell_type": "markdown",
      "metadata": {
        "id": "HZxOiQ6n8DC2"
      },
      "source": [
        "### Pertanyaan 1:"
      ]
    },
    {
      "cell_type": "code",
      "source": [
        "grouped_data.plot(kind='bar', colormap='tab20')"
      ],
      "metadata": {
        "id": "80cmv9eFiyZm"
      },
      "execution_count": null,
      "outputs": []
    },
    {
      "cell_type": "markdown",
      "metadata": {
        "id": "DgHI7CiU8DC2"
      },
      "source": [
        "### Pertanyaan 2:"
      ]
    },
    {
      "cell_type": "code",
      "execution_count": null,
      "metadata": {
        "id": "Go0lCsvO8DC2"
      },
      "outputs": [],
      "source": [
        "hourly_day = hourly_clean[hourly_clean[\"dteday\"] == '2011-01-01']\n",
        "#tanggalnya dapat diganti untuk melihat perubahan per hari\n",
        "plt.figure(figsize=(10, 5))\n",
        "plt.plot(hourly_day[\"hr\"], hourly_day[\"cnt\"], marker='o', linewidth=2, color=\"#72BCD4\")\n",
        "plt.title(\"Banyak Sepeda Tersewa per Jam\", loc=\"center\", fontsize=20)\n",
        "plt.xticks(fontsize=10)\n",
        "plt.yticks(fontsize=10)\n",
        "plt.show()"
      ]
    },
    {
      "cell_type": "markdown",
      "metadata": {
        "id": "_WeHlCeX8DC2"
      },
      "source": [
        "## Conclusion"
      ]
    },
    {
      "cell_type": "markdown",
      "metadata": {
        "id": "ZTcyR48Y8DC2"
      },
      "source": [
        "1. Pada musim gugur (fall), sepeda berhasil disewakan dengan jumlah paling banyak. Berikutnya, musim panas (summer) berada di urutan kedua, lalu musim salju (winter) di urutan ketiga, dan terakhir musim semi (spring) di urutan terakhir. Optimasi revenue dapat dilakukan di musim gugur, panas, dan salju.\n",
        "2. Berdasarkan tren penyewa, bisnis ini paling cocok untuk memiliki jam operasi dari pukul 05.00-20.00"
      ]
    }
  ],
  "metadata": {
    "kernelspec": {
      "display_name": "Python 3",
      "language": "python",
      "name": "python3"
    },
    "language_info": {
      "name": "python",
      "version": "3.8.0 (tags/v3.8.0:fa919fd, Oct 14 2019, 19:21:23) [MSC v.1916 32 bit (Intel)]"
    },
    "orig_nbformat": 4,
    "vscode": {
      "interpreter": {
        "hash": "972b3bf27e332e87b5379f2791f6ef9dfc79c71018c370b0d7423235e20fe4d7"
      }
    },
    "colab": {
      "provenance": []
    }
  },
  "nbformat": 4,
  "nbformat_minor": 0
}
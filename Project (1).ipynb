{
 "cells": [
  {
   "cell_type": "markdown",
   "id": "6417e31e-0fa3-4d41-92b7-1361b7225d33",
   "metadata": {},
   "source": [
    "# Proyek Analisis Data: Bike Sharing Dataset\n",
    "- **Nama**: Meisy Nathania Yogianty\n",
    "- **Email**: meisynathania.y@gmail.com\n",
    "- **ID Dicoding**: meisynathania"
   ]
  },
  {
   "cell_type": "markdown",
   "id": "0de1507c-04d6-4f3c-bbf6-58af54255f41",
   "metadata": {},
   "source": [
    "## Pertanyaan Bisnis:\n",
    "1. Pada musim apa sepeda paling banyak disewakan?\n",
    "2. Pada jam berapa bisnis persewaan sepeda ideal dibuka?"
   ]
  },
  {
   "cell_type": "markdown",
   "id": "a3722da8-495e-45f3-8f03-6f6296031004",
   "metadata": {},
   "source": [
    "## Analisis Data"
   ]
  },
  {
   "cell_type": "markdown",
   "id": "f5ac2264-2434-43e4-9df3-34f35b6e5358",
   "metadata": {},
   "source": [
    "### 1. Persiapan\n",
    "Pada tahap ini, dilakukan import library dan setting directory kerja"
   ]
  },
  {
   "cell_type": "code",
   "execution_count": 3,
   "id": "17cb9a80-4e5b-474e-8b51-4fd3015dca7a",
   "metadata": {},
   "outputs": [],
   "source": [
    "import pandas as pd\n",
    "import matplotlib.pyplot as plt\n",
    "import seaborn as sns\n",
    "import streamlit as st\n",
    "import numpy as np\n",
    "import os\n",
    "import datetime\n",
    "sns.set(style='dark')"
   ]
  },
  {
   "cell_type": "markdown",
   "id": "731d41dc-5334-47ad-b4f1-272b530022f6",
   "metadata": {},
   "source": [
    "### 2. Data Wrangling"
   ]
  },
  {
   "cell_type": "markdown",
   "id": "ef29bdc0-4906-48fd-af84-62dae8620846",
   "metadata": {},
   "source": [
    "#### a. Data Gathering"
   ]
  },
  {
   "cell_type": "code",
   "execution_count": 4,
   "id": "e40afedb-8e71-4441-85b1-32218ca51cc7",
   "metadata": {},
   "outputs": [
    {
     "ename": "FileNotFoundError",
     "evalue": "[Errno 2] No such file or directory: 'day.csv'",
     "output_type": "error",
     "traceback": [
      "\u001b[1;31m---------------------------------------------------------------------------\u001b[0m",
      "\u001b[1;31mFileNotFoundError\u001b[0m                         Traceback (most recent call last)",
      "Cell \u001b[1;32mIn[4], line 1\u001b[0m\n\u001b[1;32m----> 1\u001b[0m daily \u001b[38;5;241m=\u001b[39m pd\u001b[38;5;241m.\u001b[39mread_csv(\u001b[38;5;124m\"\u001b[39m\u001b[38;5;124mday.csv\u001b[39m\u001b[38;5;124m\"\u001b[39m)\n\u001b[0;32m      2\u001b[0m daily\u001b[38;5;241m.\u001b[39mhead()\n",
      "File \u001b[1;32m~\\anaconda3\\Lib\\site-packages\\pandas\\io\\parsers\\readers.py:948\u001b[0m, in \u001b[0;36mread_csv\u001b[1;34m(filepath_or_buffer, sep, delimiter, header, names, index_col, usecols, dtype, engine, converters, true_values, false_values, skipinitialspace, skiprows, skipfooter, nrows, na_values, keep_default_na, na_filter, verbose, skip_blank_lines, parse_dates, infer_datetime_format, keep_date_col, date_parser, date_format, dayfirst, cache_dates, iterator, chunksize, compression, thousands, decimal, lineterminator, quotechar, quoting, doublequote, escapechar, comment, encoding, encoding_errors, dialect, on_bad_lines, delim_whitespace, low_memory, memory_map, float_precision, storage_options, dtype_backend)\u001b[0m\n\u001b[0;32m    935\u001b[0m kwds_defaults \u001b[38;5;241m=\u001b[39m _refine_defaults_read(\n\u001b[0;32m    936\u001b[0m     dialect,\n\u001b[0;32m    937\u001b[0m     delimiter,\n\u001b[1;32m   (...)\u001b[0m\n\u001b[0;32m    944\u001b[0m     dtype_backend\u001b[38;5;241m=\u001b[39mdtype_backend,\n\u001b[0;32m    945\u001b[0m )\n\u001b[0;32m    946\u001b[0m kwds\u001b[38;5;241m.\u001b[39mupdate(kwds_defaults)\n\u001b[1;32m--> 948\u001b[0m \u001b[38;5;28;01mreturn\u001b[39;00m _read(filepath_or_buffer, kwds)\n",
      "File \u001b[1;32m~\\anaconda3\\Lib\\site-packages\\pandas\\io\\parsers\\readers.py:611\u001b[0m, in \u001b[0;36m_read\u001b[1;34m(filepath_or_buffer, kwds)\u001b[0m\n\u001b[0;32m    608\u001b[0m _validate_names(kwds\u001b[38;5;241m.\u001b[39mget(\u001b[38;5;124m\"\u001b[39m\u001b[38;5;124mnames\u001b[39m\u001b[38;5;124m\"\u001b[39m, \u001b[38;5;28;01mNone\u001b[39;00m))\n\u001b[0;32m    610\u001b[0m \u001b[38;5;66;03m# Create the parser.\u001b[39;00m\n\u001b[1;32m--> 611\u001b[0m parser \u001b[38;5;241m=\u001b[39m TextFileReader(filepath_or_buffer, \u001b[38;5;241m*\u001b[39m\u001b[38;5;241m*\u001b[39mkwds)\n\u001b[0;32m    613\u001b[0m \u001b[38;5;28;01mif\u001b[39;00m chunksize \u001b[38;5;129;01mor\u001b[39;00m iterator:\n\u001b[0;32m    614\u001b[0m     \u001b[38;5;28;01mreturn\u001b[39;00m parser\n",
      "File \u001b[1;32m~\\anaconda3\\Lib\\site-packages\\pandas\\io\\parsers\\readers.py:1448\u001b[0m, in \u001b[0;36mTextFileReader.__init__\u001b[1;34m(self, f, engine, **kwds)\u001b[0m\n\u001b[0;32m   1445\u001b[0m     \u001b[38;5;28mself\u001b[39m\u001b[38;5;241m.\u001b[39moptions[\u001b[38;5;124m\"\u001b[39m\u001b[38;5;124mhas_index_names\u001b[39m\u001b[38;5;124m\"\u001b[39m] \u001b[38;5;241m=\u001b[39m kwds[\u001b[38;5;124m\"\u001b[39m\u001b[38;5;124mhas_index_names\u001b[39m\u001b[38;5;124m\"\u001b[39m]\n\u001b[0;32m   1447\u001b[0m \u001b[38;5;28mself\u001b[39m\u001b[38;5;241m.\u001b[39mhandles: IOHandles \u001b[38;5;241m|\u001b[39m \u001b[38;5;28;01mNone\u001b[39;00m \u001b[38;5;241m=\u001b[39m \u001b[38;5;28;01mNone\u001b[39;00m\n\u001b[1;32m-> 1448\u001b[0m \u001b[38;5;28mself\u001b[39m\u001b[38;5;241m.\u001b[39m_engine \u001b[38;5;241m=\u001b[39m \u001b[38;5;28mself\u001b[39m\u001b[38;5;241m.\u001b[39m_make_engine(f, \u001b[38;5;28mself\u001b[39m\u001b[38;5;241m.\u001b[39mengine)\n",
      "File \u001b[1;32m~\\anaconda3\\Lib\\site-packages\\pandas\\io\\parsers\\readers.py:1705\u001b[0m, in \u001b[0;36mTextFileReader._make_engine\u001b[1;34m(self, f, engine)\u001b[0m\n\u001b[0;32m   1703\u001b[0m     \u001b[38;5;28;01mif\u001b[39;00m \u001b[38;5;124m\"\u001b[39m\u001b[38;5;124mb\u001b[39m\u001b[38;5;124m\"\u001b[39m \u001b[38;5;129;01mnot\u001b[39;00m \u001b[38;5;129;01min\u001b[39;00m mode:\n\u001b[0;32m   1704\u001b[0m         mode \u001b[38;5;241m+\u001b[39m\u001b[38;5;241m=\u001b[39m \u001b[38;5;124m\"\u001b[39m\u001b[38;5;124mb\u001b[39m\u001b[38;5;124m\"\u001b[39m\n\u001b[1;32m-> 1705\u001b[0m \u001b[38;5;28mself\u001b[39m\u001b[38;5;241m.\u001b[39mhandles \u001b[38;5;241m=\u001b[39m get_handle(\n\u001b[0;32m   1706\u001b[0m     f,\n\u001b[0;32m   1707\u001b[0m     mode,\n\u001b[0;32m   1708\u001b[0m     encoding\u001b[38;5;241m=\u001b[39m\u001b[38;5;28mself\u001b[39m\u001b[38;5;241m.\u001b[39moptions\u001b[38;5;241m.\u001b[39mget(\u001b[38;5;124m\"\u001b[39m\u001b[38;5;124mencoding\u001b[39m\u001b[38;5;124m\"\u001b[39m, \u001b[38;5;28;01mNone\u001b[39;00m),\n\u001b[0;32m   1709\u001b[0m     compression\u001b[38;5;241m=\u001b[39m\u001b[38;5;28mself\u001b[39m\u001b[38;5;241m.\u001b[39moptions\u001b[38;5;241m.\u001b[39mget(\u001b[38;5;124m\"\u001b[39m\u001b[38;5;124mcompression\u001b[39m\u001b[38;5;124m\"\u001b[39m, \u001b[38;5;28;01mNone\u001b[39;00m),\n\u001b[0;32m   1710\u001b[0m     memory_map\u001b[38;5;241m=\u001b[39m\u001b[38;5;28mself\u001b[39m\u001b[38;5;241m.\u001b[39moptions\u001b[38;5;241m.\u001b[39mget(\u001b[38;5;124m\"\u001b[39m\u001b[38;5;124mmemory_map\u001b[39m\u001b[38;5;124m\"\u001b[39m, \u001b[38;5;28;01mFalse\u001b[39;00m),\n\u001b[0;32m   1711\u001b[0m     is_text\u001b[38;5;241m=\u001b[39mis_text,\n\u001b[0;32m   1712\u001b[0m     errors\u001b[38;5;241m=\u001b[39m\u001b[38;5;28mself\u001b[39m\u001b[38;5;241m.\u001b[39moptions\u001b[38;5;241m.\u001b[39mget(\u001b[38;5;124m\"\u001b[39m\u001b[38;5;124mencoding_errors\u001b[39m\u001b[38;5;124m\"\u001b[39m, \u001b[38;5;124m\"\u001b[39m\u001b[38;5;124mstrict\u001b[39m\u001b[38;5;124m\"\u001b[39m),\n\u001b[0;32m   1713\u001b[0m     storage_options\u001b[38;5;241m=\u001b[39m\u001b[38;5;28mself\u001b[39m\u001b[38;5;241m.\u001b[39moptions\u001b[38;5;241m.\u001b[39mget(\u001b[38;5;124m\"\u001b[39m\u001b[38;5;124mstorage_options\u001b[39m\u001b[38;5;124m\"\u001b[39m, \u001b[38;5;28;01mNone\u001b[39;00m),\n\u001b[0;32m   1714\u001b[0m )\n\u001b[0;32m   1715\u001b[0m \u001b[38;5;28;01massert\u001b[39;00m \u001b[38;5;28mself\u001b[39m\u001b[38;5;241m.\u001b[39mhandles \u001b[38;5;129;01mis\u001b[39;00m \u001b[38;5;129;01mnot\u001b[39;00m \u001b[38;5;28;01mNone\u001b[39;00m\n\u001b[0;32m   1716\u001b[0m f \u001b[38;5;241m=\u001b[39m \u001b[38;5;28mself\u001b[39m\u001b[38;5;241m.\u001b[39mhandles\u001b[38;5;241m.\u001b[39mhandle\n",
      "File \u001b[1;32m~\\anaconda3\\Lib\\site-packages\\pandas\\io\\common.py:863\u001b[0m, in \u001b[0;36mget_handle\u001b[1;34m(path_or_buf, mode, encoding, compression, memory_map, is_text, errors, storage_options)\u001b[0m\n\u001b[0;32m    858\u001b[0m \u001b[38;5;28;01melif\u001b[39;00m \u001b[38;5;28misinstance\u001b[39m(handle, \u001b[38;5;28mstr\u001b[39m):\n\u001b[0;32m    859\u001b[0m     \u001b[38;5;66;03m# Check whether the filename is to be opened in binary mode.\u001b[39;00m\n\u001b[0;32m    860\u001b[0m     \u001b[38;5;66;03m# Binary mode does not support 'encoding' and 'newline'.\u001b[39;00m\n\u001b[0;32m    861\u001b[0m     \u001b[38;5;28;01mif\u001b[39;00m ioargs\u001b[38;5;241m.\u001b[39mencoding \u001b[38;5;129;01mand\u001b[39;00m \u001b[38;5;124m\"\u001b[39m\u001b[38;5;124mb\u001b[39m\u001b[38;5;124m\"\u001b[39m \u001b[38;5;129;01mnot\u001b[39;00m \u001b[38;5;129;01min\u001b[39;00m ioargs\u001b[38;5;241m.\u001b[39mmode:\n\u001b[0;32m    862\u001b[0m         \u001b[38;5;66;03m# Encoding\u001b[39;00m\n\u001b[1;32m--> 863\u001b[0m         handle \u001b[38;5;241m=\u001b[39m \u001b[38;5;28mopen\u001b[39m(\n\u001b[0;32m    864\u001b[0m             handle,\n\u001b[0;32m    865\u001b[0m             ioargs\u001b[38;5;241m.\u001b[39mmode,\n\u001b[0;32m    866\u001b[0m             encoding\u001b[38;5;241m=\u001b[39mioargs\u001b[38;5;241m.\u001b[39mencoding,\n\u001b[0;32m    867\u001b[0m             errors\u001b[38;5;241m=\u001b[39merrors,\n\u001b[0;32m    868\u001b[0m             newline\u001b[38;5;241m=\u001b[39m\u001b[38;5;124m\"\u001b[39m\u001b[38;5;124m\"\u001b[39m,\n\u001b[0;32m    869\u001b[0m         )\n\u001b[0;32m    870\u001b[0m     \u001b[38;5;28;01melse\u001b[39;00m:\n\u001b[0;32m    871\u001b[0m         \u001b[38;5;66;03m# Binary mode\u001b[39;00m\n\u001b[0;32m    872\u001b[0m         handle \u001b[38;5;241m=\u001b[39m \u001b[38;5;28mopen\u001b[39m(handle, ioargs\u001b[38;5;241m.\u001b[39mmode)\n",
      "\u001b[1;31mFileNotFoundError\u001b[0m: [Errno 2] No such file or directory: 'day.csv'"
     ]
    }
   ],
   "source": [
    "daily = pd.read_csv(\"day.csv\")\n",
    "daily.head()"
   ]
  },
  {
   "cell_type": "code",
   "execution_count": null,
   "id": "be363c7c-bc0a-4ba0-83ee-53f747510b0a",
   "metadata": {},
   "outputs": [],
   "source": [
    "hourly = pd.read_csv(\"hour.csv\")\n",
    "hourly.head()"
   ]
  },
  {
   "cell_type": "markdown",
   "id": "49e08c1e-054a-474a-abf8-6bb60bb2b5ab",
   "metadata": {},
   "source": [
    "#### b. Data Assessing"
   ]
  },
  {
   "cell_type": "code",
   "execution_count": null,
   "id": "df662055-92e9-441f-b6ef-08d2d42a0bd8",
   "metadata": {},
   "outputs": [],
   "source": [
    "daily.info()"
   ]
  },
  {
   "cell_type": "code",
   "execution_count": null,
   "id": "2c9b3c48-5a45-4932-8bc7-5d42b8948cc2",
   "metadata": {},
   "outputs": [],
   "source": [
    "hourly.info()"
   ]
  },
  {
   "cell_type": "markdown",
   "id": "537efbaa-5fe3-41f9-80c4-67424ccf9144",
   "metadata": {},
   "source": [
    "Pada kedua tabel, kolom dteday yang menyimpan tanggal masih bertipe object, maka harus diganti menjadi tipe tanggal yang sesuai"
   ]
  },
  {
   "cell_type": "code",
   "execution_count": null,
   "id": "498d7133-1bf5-4bc4-a404-12eb27e622fd",
   "metadata": {},
   "outputs": [],
   "source": [
    "print(hourly.isna().sum())\n",
    "print(daily.isna().sum())"
   ]
  },
  {
   "cell_type": "code",
   "execution_count": null,
   "id": "d81ade87-0568-42c7-8be0-67c3f78bacb8",
   "metadata": {},
   "outputs": [],
   "source": [
    "print(daily.duplicated().sum())\n",
    "print(hourly.duplicated().sum())"
   ]
  },
  {
   "cell_type": "markdown",
   "id": "fdfa1213-2adc-4e5e-923b-1ac282cec325",
   "metadata": {},
   "source": [
    "Kedua tabel tidak memiliki missing value dan data duplikat"
   ]
  },
  {
   "cell_type": "markdown",
   "id": "685d8cb5-000a-4847-a1c6-66ea7f5b6c03",
   "metadata": {},
   "source": [
    "Selanjutnya, cek parameter statistik kedua tabel:"
   ]
  },
  {
   "cell_type": "code",
   "execution_count": null,
   "id": "a245848f-b899-4b4f-af3e-db50a21c947d",
   "metadata": {},
   "outputs": [],
   "source": [
    "daily.describe()"
   ]
  },
  {
   "cell_type": "code",
   "execution_count": null,
   "id": "1f3aeb49-8882-4d09-b06f-f14c1c706c3b",
   "metadata": {},
   "outputs": [],
   "source": [
    "hourly.describe()"
   ]
  },
  {
   "cell_type": "markdown",
   "id": "f094d251-e24c-4144-9e40-79801a37053d",
   "metadata": {},
   "source": [
    "#### c. Data Cleaning"
   ]
  },
  {
   "cell_type": "code",
   "execution_count": null,
   "id": "d4336618-a990-40eb-9197-aba643866a5a",
   "metadata": {},
   "outputs": [],
   "source": [
    "daily['dteday']= pd.to_datetime(daily['dteday'])\n",
    "daily['season'].replace([1,2,3,4],['springer','summer', 'fall', 'winter'],inplace=True)\n",
    "daily['yr'].replace([0,1],['2011','2012'],inplace=True)\n",
    "daily['mnth'] = daily['mnth'].astype(str)\n",
    "daily['holiday'].replace([0,1],['not holiday','holiday'],inplace=True)\n",
    "daily['weekday'] = daily['weekday'].astype(str)\n",
    "daily['workingday'].replace([0,1],['weekend/holiday','workingday'],inplace=True)\n",
    "daily.info()"
   ]
  },
  {
   "cell_type": "code",
   "execution_count": null,
   "id": "ce6cec98-319d-46cd-a7f3-eb3d673e35d4",
   "metadata": {},
   "outputs": [],
   "source": [
    "hourly['dteday']= pd.to_datetime(hourly['dteday'])\n",
    "hourly['season'].replace([1,2,3,4],['springer','summer', 'fall', 'winter'],inplace=True)\n",
    "hourly['yr'].replace([0,1],['2011','2012'],inplace=True)\n",
    "hourly['mnth'] = hourly['mnth'].astype(str)\n",
    "hourly['holiday'].replace([0,1],['not holiday','holiday'],inplace=True)\n",
    "hourly['weekday'] = hourly['weekday'].astype(str)\n",
    "hourly['workingday'].replace([0,1],['weekend/holiday','workingday'],inplace=True)\n",
    "hourly.info()"
   ]
  },
  {
   "cell_type": "markdown",
   "id": "8537c6bb-9ad9-4b11-984e-ca2f86abda8c",
   "metadata": {},
   "source": [
    "Setelah semua kolom dipastikan bersih, unduh file data yang telah dibersihkan "
   ]
  },
  {
   "cell_type": "code",
   "execution_count": null,
   "id": "20a119f9-3c89-4c1e-97b0-ff3103827f90",
   "metadata": {},
   "outputs": [],
   "source": [
    "hourly.to_csv(\"hourly_clean.csv\", index=False)"
   ]
  },
  {
   "cell_type": "code",
   "execution_count": null,
   "id": "f50c5cd6-8a96-4f24-88fc-28f90cded3e9",
   "metadata": {},
   "outputs": [],
   "source": [
    "daily.to_csv(\"daily_clean.csv\", index=False)"
   ]
  },
  {
   "cell_type": "markdown",
   "id": "c1b4551e-80aa-4abf-969c-6aaf413227f0",
   "metadata": {},
   "source": [
    "### 2. Exploratory Data Analysis"
   ]
  },
  {
   "cell_type": "code",
   "execution_count": null,
   "id": "9aac9e06-99db-4a54-92a4-77b118c2a713",
   "metadata": {},
   "outputs": [],
   "source": [
    "daily_clean.describe(include = \"all\")"
   ]
  },
  {
   "cell_type": "code",
   "execution_count": null,
   "id": "b0c6c649-5387-4a8c-b864-5c38c33e55f4",
   "metadata": {},
   "outputs": [],
   "source": [
    "hourly_clean.describe(include = \"all\")"
   ]
  },
  {
   "cell_type": "markdown",
   "id": "e3081cf4-224b-4d17-82b9-3f959cc82cc6",
   "metadata": {},
   "source": [
    "a. Perbandingan Sepeda Tersewa saat holiday dan not holiday"
   ]
  },
  {
   "cell_type": "code",
   "execution_count": null,
   "id": "b61bf9f2-efb8-44d1-9177-356d6b0bd9a9",
   "metadata": {},
   "outputs": [],
   "source": [
    "daily_clean.groupby(by=\"holiday\").agg({\n",
    "    \"instant\": \"nunique\",\n",
    "    \"cnt\": [\"max\", \"min\", \"mean\", \"std\"]\n",
    "})"
   ]
  },
  {
   "cell_type": "code",
   "execution_count": null,
   "id": "2f44218c-f905-4dc2-aa66-4d07ef2103de",
   "metadata": {},
   "outputs": [],
   "source": [
    "hourly_clean.groupby(by=\"hr\").agg({\n",
    "    \"cnt\": [\"max\", \"min\", \"mean\", \"std\"],\n",
    "})"
   ]
  },
  {
   "cell_type": "markdown",
   "id": "b121930f-3c9a-4bd8-b0e4-5f0994fe780c",
   "metadata": {},
   "source": [
    "#1 Perbandingan peminjaman sepeda di tiap musim"
   ]
  },
  {
   "cell_type": "code",
   "execution_count": null,
   "id": "c02eb87b-614e-4d48-8bba-dabe3ebed463",
   "metadata": {},
   "outputs": [],
   "source": [
    "seasonal = pd.DataFrame(daily_clean.groupby(by=[\"season\",\"yr\"]).agg({\n",
    "    \"cnt\": [\"sum\"],\n",
    "}).unstack())\n",
    "seasonal"
   ]
  },
  {
   "cell_type": "code",
   "execution_count": null,
   "id": "e1fd59c7-a2a6-4fcc-820b-aa6c2faea6b5",
   "metadata": {},
   "outputs": [],
   "source": [
    "grouped_data = seasonal.groupby(['season'])['cnt'].sum().unstack()\n",
    "grouped_data"
   ]
  },
  {
   "cell_type": "code",
   "execution_count": null,
   "id": "ca774df4-47b7-4b9b-b26b-339c4e8931b0",
   "metadata": {},
   "outputs": [],
   "source": [
    "grouped_data.plot(kind='bar', colormap='tab20')"
   ]
  },
  {
   "cell_type": "markdown",
   "id": "9e9204ec-8b91-4d72-84e3-fadd63a517dd",
   "metadata": {},
   "source": [
    "Berdasarkan data bar chart di atas, terlihat pola berulang tiap tahun untuk jumlah sepeda tersewa di tiap musimnya"
   ]
  },
  {
   "cell_type": "markdown",
   "id": "84ce129b-2e9b-47d7-a698-03966448af85",
   "metadata": {},
   "source": [
    "#2 Untuk menentukan jam buka yang tepat guna memperoleh keuntungan optimal, pemilik bisnis tentu perlu mengetahui jumlah sepeda tersewa per jam setiap harinya"
   ]
  },
  {
   "cell_type": "code",
   "execution_count": null,
   "id": "149d0c36-4544-47ba-8cf2-dca4a5d445df",
   "metadata": {},
   "outputs": [],
   "source": [
    "hourly_day = hourly_clean[hourly_clean[\"dteday\"] == '2011-01-01']\n",
    "#tanggalnya dapat diganti untuk melihat perubahan per hari\n",
    "plt.figure(figsize=(10, 5)) \n",
    "plt.plot(hourly_day[\"hr\"], hourly_day[\"cnt\"], marker='o', linewidth=2, color=\"#72BCD4\") \n",
    "plt.title(\"Banyak Sepeda Tersewa per Jam\", loc=\"center\", fontsize=20) \n",
    "plt.xticks(fontsize=10) \n",
    "plt.yticks(fontsize=10) \n",
    "plt.show()"
   ]
  },
  {
   "cell_type": "markdown",
   "id": "cd254589-97f7-4c7c-a02c-0a332c236870",
   "metadata": {},
   "source": [
    "## Visualization and Explanatory Analysis"
   ]
  },
  {
   "cell_type": "markdown",
   "id": "b87ef636-501e-47c5-a9c9-d6bd31b086e5",
   "metadata": {},
   "source": [
    "Prototype Dashboard"
   ]
  },
  {
   "cell_type": "code",
   "execution_count": null,
   "id": "40aa4bc7-6ee6-4d47-b256-651a9e41c0a5",
   "metadata": {},
   "outputs": [],
   "source": [
    "selected_year = '2011'\n",
    "\n",
    "# Subset the data for the specified year and season\n",
    "subset_data = daily_clean[(daily_clean['yr'] == selected_year)]\n",
    "subset_data"
   ]
  },
  {
   "cell_type": "code",
   "execution_count": null,
   "id": "8164c037-2c54-43a7-9a08-7eafdf8e0738",
   "metadata": {},
   "outputs": [],
   "source": [
    "seasonal = subset_data.groupby('season')['cnt'].sum()\n",
    "seasonal"
   ]
  },
  {
   "cell_type": "code",
   "execution_count": null,
   "id": "823e71c2-b9b6-4c4b-b3ec-42bf8665a07d",
   "metadata": {},
   "outputs": [],
   "source": [
    "plt.bar(seasonal.index, seasonal)\n",
    "plt.xlabel(\"Season\")\n",
    "plt.ylabel(\"Total cnt\")\n",
    "plt.title(\"Total cnt per Season\")\n",
    "plt.show()"
   ]
  },
  {
   "cell_type": "code",
   "execution_count": null,
   "id": "af0dc1b4-1fd5-4efa-98ce-b28e9d1c6886",
   "metadata": {},
   "outputs": [],
   "source": [
    "#untuk metriks\n",
    "totalcnt = daily_clean.cnt.sum()\n",
    "totalcnt"
   ]
  },
  {
   "cell_type": "markdown",
   "id": "9ae49195-79a8-499c-a27f-dc69256cde64",
   "metadata": {},
   "source": [
    "## Conclusion\n",
    "1. Pada musim gugur (fall), sepeda berhasil disewakan dengan jumlah paling banyak. Berikutnya, musim panas (summer) berada di urutan kedua, lalu musim salju (winter) di urutan ketiga, dan terakhir musim semi (spring) di urutan terakhir. Optimasi revenue dapat dilakukan di musim gugur, panas, dan salju.\n",
    "2. Berdasarkan tren penyewa, bisnis ini paling cocok untuk memiliki jam operasi dari pukul 05.00-20.00?"
   ]
  },
  {
   "cell_type": "markdown",
   "id": "60722075-350e-4a94-9199-c0be7f2fd33f",
   "metadata": {},
   "source": [
    "## DASHBOARD BUILD"
   ]
  },
  {
   "cell_type": "code",
   "execution_count": null,
   "id": "01e4a7e1-d3ac-4127-a577-b5ae2af91e83",
   "metadata": {},
   "outputs": [],
   "source": [
    "#dashboard\n",
    "sidebarOpt = st.sidebar.selectbox(\n",
    "    'Bike Share Dashboard Menu',\n",
    "    ('Daily Report','Seasonal Report')\n",
    ")\n",
    "if sidebarOpt == 'Daily Report' or sidebarOpt =='':\n",
    "    st.header('DAILY REPORT')\n",
    "    #jumlah sepeda tersewa per jam setiap harinya\n",
    "    dateInput = st.date_input(\n",
    "        label='Pilih Tanggal',\n",
    "        value = datetime.date(2011, 1, 1)\n",
    "    )\n",
    "    hourly_day = hourly_clean[hourly_clean[\"dteday\"] == str(dateInput)] #subset data per hari\n",
    "    daily_day = daily_clean[daily_clean[\"dteday\"] == str(dateInput)]\n",
    "    totalcnt = daily_day.cnt.sum()\n",
    "    st.metric(\"Total Sepeda Tersewa\", value = totalcnt)\n",
    "    plt.figure(figsize=(10, 5)) \n",
    "    plt.plot(hourly_day[\"hr\"], hourly_day[\"cnt\"], marker='o', linewidth=2, color=\"#72BCD4\") \n",
    "    plt.title(\"Banyak Sepeda Tersewa per Jam\", loc=\"center\", fontsize=20) \n",
    "    plt.xticks(fontsize=10) \n",
    "    plt.yticks(fontsize=10) \n",
    "    plt.show()\n",
    "    st.pyplot(plt)\n",
    "elif sidebarOpt == 'Seasonal Report':\n",
    "    st.header(\"SEASONAL REPORT\")\n",
    "    #perbandingan peminjaman sepeda di tiap musim\n",
    "    year = ['2011', '2012']\n",
    "    selected_year = st.radio(\"Tahun\", \n",
    "                             year, key=\"2011\")\n",
    "    subset_data = daily_clean[(daily_clean['yr'] == selected_year)]\n",
    "    seasonal = subset_data.groupby('season')['cnt'].sum()\n",
    "    fig, ax = plt.subplots(figsize = (10, 5))\n",
    "    ax.bar(seasonal.index, seasonal.values,\n",
    "           color='skyblue', label='Total')\n",
    "    ax.set_xlabel(\"Musim\")\n",
    "    ax.set_ylabel(\"Total\")\n",
    "    ax.set_title(\"Banyak Sepeda Tersewa tiap Musim\")\n",
    "    st.pyplot(fig)"
   ]
  }
 ],
 "metadata": {
  "kernelspec": {
   "display_name": "Python 3 (ipykernel)",
   "language": "python",
   "name": "python3"
  },
  "language_info": {
   "codemirror_mode": {
    "name": "ipython",
    "version": 3
   },
   "file_extension": ".py",
   "mimetype": "text/x-python",
   "name": "python",
   "nbconvert_exporter": "python",
   "pygments_lexer": "ipython3",
   "version": "3.11.7"
  }
 },
 "nbformat": 4,
 "nbformat_minor": 5
}
